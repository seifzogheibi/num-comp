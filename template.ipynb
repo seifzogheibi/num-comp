{
 "cells": [
  {
   "cell_type": "markdown",
   "metadata": {},
   "source": [
    "# Solution"
   ]
  },
  {
   "cell_type": "code",
   "execution_count": null,
   "metadata": {
    "tags": []
   },
   "outputs": [],
   "source": [
    "# put all python import statements here\n",
    "from solvers import solver"
   ]
  },
  {
   "cell_type": "markdown",
   "metadata": {
    "tags": [
     "template"
    ]
   },
   "source": [
    "## Implementation\n",
    "\n",
    "[First, write code to be able to solve the differential equations using the three methods you have chosen for arbitrary initial conditions ($y(t=0), v(t=0)$), time step and stopping time ($\\mathrm{d}t$, $T$) and model parameters ($m, k, g$). Then, write code to solve the nonlinear problem for arbitrary $H$ and $T$, your three choices of differential equation solver and all the other differential equation solver parameters ($y(t=0), \\mathrm{d}t, m, k, g$). [100 words]]"
   ]
  },
  {
   "cell_type": "markdown",
   "metadata": {
    "tags": [
     "template"
    ]
   },
   "source": [
    "## Results\n",
    "\n",
    "[Simulate and show results for each of the test cases suggested by your boss for a range of time steps. For both test cases, you should use (at least) $\\mathrm{d}t = T/100, T/200, T/400, T/800, T/1600$. You should demonstrate how solutions look for each method, and the accuracy and efficiency of each approach. [100 words]]"
   ]
  },
  {
   "cell_type": "markdown",
   "metadata": {
    "tags": [
     "template"
    ]
   },
   "source": [
    "## Analysis\n",
    "\n",
    "[*Comment on the efficiency and accuracy of each approach. [300 words]*]"
   ]
  },
  {
   "cell_type": "markdown",
   "metadata": {
    "tags": [
     "template"
    ]
   },
   "source": [
    "## Conclusion\n",
    "\n",
    "[*Compare the methods that you have results for, and any other relevant methods from the module, and make a recommendation of which method you think is best. [300 words]*]"
   ]
  }
 ],
 "metadata": {
  "kernelspec": {
   "display_name": "Python 3 (ipykernel)",
   "language": "python",
   "name": "python3"
  },
  "language_info": {
   "codemirror_mode": {
    "name": "ipython",
    "version": 3
   },
   "file_extension": ".py",
   "mimetype": "text/x-python",
   "name": "python",
   "nbconvert_exporter": "python",
   "pygments_lexer": "ipython3",
   "version": "3.8.19"
  },
  "title": "COMP/XJCO2421 Numerical Computation Final coursework"
 },
 "nbformat": 4,
 "nbformat_minor": 4
}
